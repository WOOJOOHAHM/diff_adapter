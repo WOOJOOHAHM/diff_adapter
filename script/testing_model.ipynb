{
 "cells": [
  {
   "cell_type": "code",
   "execution_count": 1,
   "metadata": {},
   "outputs": [
    {
     "name": "stderr",
     "output_type": "stream",
     "text": [
      "/Users/hahmwj/anaconda3/envs/hahm/lib/python3.11/site-packages/torchvision/transforms/_functional_video.py:6: UserWarning: The 'torchvision.transforms._functional_video' module is deprecated since 0.12 and will be removed in the future. Please use the 'torchvision.transforms.functional' module instead.\n",
      "  warnings.warn(\n",
      "/Users/hahmwj/anaconda3/envs/hahm/lib/python3.11/site-packages/torchvision/transforms/_transforms_video.py:22: UserWarning: The 'torchvision.transforms._transforms_video' module is deprecated since 0.12 and will be removed in the future. Please use the 'torchvision.transforms' module instead.\n",
      "  warnings.warn(\n",
      "/Users/hahmwj/anaconda3/envs/hahm/lib/python3.11/site-packages/torchvision/transforms/functional_tensor.py:5: UserWarning: The torchvision.transforms.functional_tensor module is deprecated in 0.15 and will be **removed in 0.17**. Please don't rely on it. You probably just need to use APIs in torchvision.transforms.functional or in torchvision.transforms.v2.functional.\n",
      "  warnings.warn(\n"
     ]
    }
   ],
   "source": [
    "import sys\n",
    "sys.path.append('../../cloned_model/diff_adapter')\n",
    "sys.path.append('../')\n",
    "\n",
    "import os\n",
    "import argparse\n",
    "import lightning.pytorch as pl\n",
    "from lightning.pytorch.strategies import DDPStrategy\n",
    "from pytorch_lightning.loggers import WandbLogger\n",
    "from lightning.pytorch.callbacks.early_stopping import EarlyStopping\n",
    "\n",
    "from util import *\n",
    "from VIT import build_diff"
   ]
  },
  {
   "cell_type": "code",
   "execution_count": 2,
   "metadata": {},
   "outputs": [
    {
     "name": "stdout",
     "output_type": "stream",
     "text": [
      "Train datasets lengths: 4329\n",
      "Valid datasets lengths: 1083\n",
      "Test datasets lengths: 1354\n"
     ]
    }
   ],
   "source": [
    "dataset = 'hmdb'\n",
    "batch_size = 2\n",
    "num_frames = 8\n",
    "dataloader_train, dataloader_val, dataloader_test, num_classes = load_data(dataset_name = dataset, \n",
    "            path = '/Volumes/T7_Shiled/Video_dataset/csv_files', \n",
    "            batch_size = batch_size,\n",
    "            num_workers = 8,\n",
    "            num_frames = num_frames,\n",
    "            video_size=224)"
   ]
  },
  {
   "cell_type": "code",
   "execution_count": 3,
   "metadata": {},
   "outputs": [],
   "source": [
    "layers = 4\n",
    "inter_type = 'DM'\n",
    "differ_block = get_differ_block_layer(layers)\n",
    "model = build_diff(num_classes = num_classes, \n",
    "                    inter_type = inter_type, \n",
    "                    differ_layer = differ_block, \n",
    "                    num_frames = num_frames,\n",
    "                    classification_rule = 'concat_fcls_mean_diff', # mean, concat, RNN, LSTM\n",
    "                    substitute_frame = 1)\n",
    "# concat_fcls_mean_diff은 substitute_frame은 1이여야만 한다"
   ]
  },
  {
   "cell_type": "code",
   "execution_count": 4,
   "metadata": {},
   "outputs": [],
   "source": [
    "def convert_weights_to_float(model):\n",
    "    for param in model.parameters():\n",
    "        param.data = param.data.float()\n",
    "\n",
    "convert_weights_to_float(model)"
   ]
  },
  {
   "cell_type": "code",
   "execution_count": 5,
   "metadata": {},
   "outputs": [
    {
     "name": "stdout",
     "output_type": "stream",
     "text": [
      "cls_tokens:   torch.Size([1, 4, 2, 768])\n",
      "torch.Size([1, 768])\n",
      "mean_diff:    torch.Size([1, 768])\n",
      "torch.Size([1, 51])\n"
     ]
    }
   ],
   "source": [
    "for video, label in dataloader_test:\n",
    "    output = model(video)[0]\n",
    "    print(output.size())\n",
    "    break"
   ]
  },
  {
   "cell_type": "code",
   "execution_count": null,
   "metadata": {},
   "outputs": [],
   "source": []
  }
 ],
 "metadata": {
  "kernelspec": {
   "display_name": "hahm",
   "language": "python",
   "name": "python3"
  },
  "language_info": {
   "codemirror_mode": {
    "name": "ipython",
    "version": 3
   },
   "file_extension": ".py",
   "mimetype": "text/x-python",
   "name": "python",
   "nbconvert_exporter": "python",
   "pygments_lexer": "ipython3",
   "version": "3.11.0"
  }
 },
 "nbformat": 4,
 "nbformat_minor": 2
}
